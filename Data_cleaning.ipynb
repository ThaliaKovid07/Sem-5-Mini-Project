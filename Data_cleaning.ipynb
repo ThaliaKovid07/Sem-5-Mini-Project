{
  "nbformat": 4,
  "nbformat_minor": 0,
  "metadata": {
    "colab": {
      "name": "Data cleaning.ipynb",
      "provenance": [],
      "collapsed_sections": []
    },
    "kernelspec": {
      "name": "python3",
      "display_name": "Python 3"
    },
    "language_info": {
      "name": "python"
    }
  },
  "cells": [
    {
      "cell_type": "code",
      "metadata": {
        "id": "F0-2HsgYlp6k"
      },
      "source": [
        "import pandas as pd\n",
        "import numpy as np\n",
        "import seaborn as sns"
      ],
      "execution_count": null,
      "outputs": []
    },
    {
      "cell_type": "code",
      "metadata": {
        "id": "VL1F2RmakOvh"
      },
      "source": [
        "data = pd.read_csv(\"/content/modified time of occurence.csv\")"
      ],
      "execution_count": null,
      "outputs": []
    },
    {
      "cell_type": "code",
      "metadata": {
        "colab": {
          "base_uri": "https://localhost:8080/",
          "height": 206
        },
        "id": "K86kx5Kaly63",
        "outputId": "ac3a28a7-85f7-4fe9-98b9-e19a87c74ee7"
      },
      "source": [
        "data.head()"
      ],
      "execution_count": null,
      "outputs": [
        {
          "output_type": "execute_result",
          "data": {
            "text/html": [
              "<div>\n",
              "<style scoped>\n",
              "    .dataframe tbody tr th:only-of-type {\n",
              "        vertical-align: middle;\n",
              "    }\n",
              "\n",
              "    .dataframe tbody tr th {\n",
              "        vertical-align: top;\n",
              "    }\n",
              "\n",
              "    .dataframe thead th {\n",
              "        text-align: right;\n",
              "    }\n",
              "</style>\n",
              "<table border=\"1\" class=\"dataframe\">\n",
              "  <thead>\n",
              "    <tr style=\"text-align: right;\">\n",
              "      <th></th>\n",
              "      <th>States/UTs</th>\n",
              "      <th>earlymorning</th>\n",
              "      <th>latemorning</th>\n",
              "      <th>earlyafternoon</th>\n",
              "      <th>lateafternoon</th>\n",
              "      <th>earlyevening</th>\n",
              "      <th>lateevening</th>\n",
              "      <th>midnight</th>\n",
              "      <th>twilight</th>\n",
              "      <th>Unknown</th>\n",
              "    </tr>\n",
              "  </thead>\n",
              "  <tbody>\n",
              "    <tr>\n",
              "      <th>0</th>\n",
              "      <td>Andhra Pradesh</td>\n",
              "      <td>2453</td>\n",
              "      <td>3069</td>\n",
              "      <td>3437</td>\n",
              "      <td>3919</td>\n",
              "      <td>4633</td>\n",
              "      <td>2188</td>\n",
              "      <td>947</td>\n",
              "      <td>1300</td>\n",
              "      <td>46</td>\n",
              "    </tr>\n",
              "    <tr>\n",
              "      <th>1</th>\n",
              "      <td>Arunachal Pradesh</td>\n",
              "      <td>40</td>\n",
              "      <td>46</td>\n",
              "      <td>22</td>\n",
              "      <td>34</td>\n",
              "      <td>26</td>\n",
              "      <td>23</td>\n",
              "      <td>25</td>\n",
              "      <td>11</td>\n",
              "      <td>10</td>\n",
              "    </tr>\n",
              "    <tr>\n",
              "      <th>2</th>\n",
              "      <td>Assam</td>\n",
              "      <td>1068</td>\n",
              "      <td>1536</td>\n",
              "      <td>1299</td>\n",
              "      <td>1464</td>\n",
              "      <td>1284</td>\n",
              "      <td>747</td>\n",
              "      <td>395</td>\n",
              "      <td>501</td>\n",
              "      <td>56</td>\n",
              "    </tr>\n",
              "    <tr>\n",
              "      <th>3</th>\n",
              "      <td>Bihar</td>\n",
              "      <td>1859</td>\n",
              "      <td>1791</td>\n",
              "      <td>1261</td>\n",
              "      <td>1437</td>\n",
              "      <td>1288</td>\n",
              "      <td>462</td>\n",
              "      <td>165</td>\n",
              "      <td>1744</td>\n",
              "      <td>0</td>\n",
              "    </tr>\n",
              "    <tr>\n",
              "      <th>4</th>\n",
              "      <td>Chhattisgarh</td>\n",
              "      <td>1426</td>\n",
              "      <td>2063</td>\n",
              "      <td>2238</td>\n",
              "      <td>2679</td>\n",
              "      <td>3085</td>\n",
              "      <td>1439</td>\n",
              "      <td>454</td>\n",
              "      <td>515</td>\n",
              "      <td>0</td>\n",
              "    </tr>\n",
              "  </tbody>\n",
              "</table>\n",
              "</div>"
            ],
            "text/plain": [
              "          States/UTs  earlymorning  latemorning  ...  midnight  twilight  Unknown\n",
              "0     Andhra Pradesh          2453         3069  ...       947      1300       46\n",
              "1  Arunachal Pradesh            40           46  ...        25        11       10\n",
              "2              Assam          1068         1536  ...       395       501       56\n",
              "3              Bihar          1859         1791  ...       165      1744        0\n",
              "4       Chhattisgarh          1426         2063  ...       454       515        0\n",
              "\n",
              "[5 rows x 10 columns]"
            ]
          },
          "metadata": {},
          "execution_count": 3
        }
      ]
    },
    {
      "cell_type": "code",
      "metadata": {
        "id": "PQmqTa_2TB-T"
      },
      "source": [
        ""
      ],
      "execution_count": null,
      "outputs": []
    },
    {
      "cell_type": "code",
      "metadata": {
        "colab": {
          "base_uri": "https://localhost:8080/"
        },
        "id": "t03wjBoIl4Cj",
        "outputId": "d7004243-09ae-49b3-bbe3-5dcfe2230257"
      },
      "source": [
        "data.isnull().sum()"
      ],
      "execution_count": null,
      "outputs": [
        {
          "output_type": "execute_result",
          "data": {
            "text/plain": [
              "States/UTs        0\n",
              "earlymorning      0\n",
              "latemorning       0\n",
              "earlyafternoon    0\n",
              "lateafternoon     0\n",
              "earlyevening      0\n",
              "lateevening       0\n",
              "midnight          0\n",
              "twilight          0\n",
              "Unknown           0\n",
              "dtype: int64"
            ]
          },
          "metadata": {},
          "execution_count": 4
        }
      ]
    },
    {
      "cell_type": "code",
      "metadata": {
        "colab": {
          "base_uri": "https://localhost:8080/"
        },
        "id": "8-EXZcpEmIC2",
        "outputId": "76dd6a5e-70e3-4372-fc1c-21dc4f13746d"
      },
      "source": [
        "data.shape"
      ],
      "execution_count": null,
      "outputs": [
        {
          "output_type": "execute_result",
          "data": {
            "text/plain": [
              "(36, 10)"
            ]
          },
          "metadata": {},
          "execution_count": 5
        }
      ]
    },
    {
      "cell_type": "code",
      "metadata": {
        "colab": {
          "base_uri": "https://localhost:8080/",
          "height": 300
        },
        "id": "R4B03W4RmS-W",
        "outputId": "393ee3d3-9add-4614-9023-82dc15c0789f"
      },
      "source": [
        "data.describe()"
      ],
      "execution_count": null,
      "outputs": [
        {
          "output_type": "execute_result",
          "data": {
            "text/html": [
              "<div>\n",
              "<style scoped>\n",
              "    .dataframe tbody tr th:only-of-type {\n",
              "        vertical-align: middle;\n",
              "    }\n",
              "\n",
              "    .dataframe tbody tr th {\n",
              "        vertical-align: top;\n",
              "    }\n",
              "\n",
              "    .dataframe thead th {\n",
              "        text-align: right;\n",
              "    }\n",
              "</style>\n",
              "<table border=\"1\" class=\"dataframe\">\n",
              "  <thead>\n",
              "    <tr style=\"text-align: right;\">\n",
              "      <th></th>\n",
              "      <th>earlymorning</th>\n",
              "      <th>latemorning</th>\n",
              "      <th>earlyafternoon</th>\n",
              "      <th>lateafternoon</th>\n",
              "      <th>earlyevening</th>\n",
              "      <th>lateevening</th>\n",
              "      <th>midnight</th>\n",
              "      <th>twilight</th>\n",
              "      <th>Unknown</th>\n",
              "    </tr>\n",
              "  </thead>\n",
              "  <tbody>\n",
              "    <tr>\n",
              "      <th>count</th>\n",
              "      <td>36.000000</td>\n",
              "      <td>36.000000</td>\n",
              "      <td>36.000000</td>\n",
              "      <td>36.000000</td>\n",
              "      <td>36.000000</td>\n",
              "      <td>36.000000</td>\n",
              "      <td>36.000000</td>\n",
              "      <td>36.000000</td>\n",
              "      <td>36.000000</td>\n",
              "    </tr>\n",
              "    <tr>\n",
              "      <th>mean</th>\n",
              "      <td>1365.694444</td>\n",
              "      <td>1854.638889</td>\n",
              "      <td>1878.416667</td>\n",
              "      <td>2180.916667</td>\n",
              "      <td>2401.444444</td>\n",
              "      <td>1343.611111</td>\n",
              "      <td>654.805556</td>\n",
              "      <td>699.638889</td>\n",
              "      <td>93.111111</td>\n",
              "    </tr>\n",
              "    <tr>\n",
              "      <th>std</th>\n",
              "      <td>1791.566781</td>\n",
              "      <td>2411.684914</td>\n",
              "      <td>2457.683083</td>\n",
              "      <td>2896.498244</td>\n",
              "      <td>3317.503463</td>\n",
              "      <td>1827.096295</td>\n",
              "      <td>862.991039</td>\n",
              "      <td>922.591882</td>\n",
              "      <td>244.190883</td>\n",
              "    </tr>\n",
              "    <tr>\n",
              "      <th>min</th>\n",
              "      <td>0.000000</td>\n",
              "      <td>0.000000</td>\n",
              "      <td>0.000000</td>\n",
              "      <td>0.000000</td>\n",
              "      <td>1.000000</td>\n",
              "      <td>0.000000</td>\n",
              "      <td>0.000000</td>\n",
              "      <td>0.000000</td>\n",
              "      <td>0.000000</td>\n",
              "    </tr>\n",
              "    <tr>\n",
              "      <th>25%</th>\n",
              "      <td>53.500000</td>\n",
              "      <td>45.500000</td>\n",
              "      <td>51.750000</td>\n",
              "      <td>70.000000</td>\n",
              "      <td>70.250000</td>\n",
              "      <td>57.000000</td>\n",
              "      <td>22.250000</td>\n",
              "      <td>14.000000</td>\n",
              "      <td>0.000000</td>\n",
              "    </tr>\n",
              "    <tr>\n",
              "      <th>50%</th>\n",
              "      <td>659.000000</td>\n",
              "      <td>789.500000</td>\n",
              "      <td>737.500000</td>\n",
              "      <td>844.500000</td>\n",
              "      <td>884.000000</td>\n",
              "      <td>441.000000</td>\n",
              "      <td>277.500000</td>\n",
              "      <td>401.000000</td>\n",
              "      <td>0.500000</td>\n",
              "    </tr>\n",
              "    <tr>\n",
              "      <th>75%</th>\n",
              "      <td>1951.000000</td>\n",
              "      <td>2659.500000</td>\n",
              "      <td>2738.000000</td>\n",
              "      <td>3155.500000</td>\n",
              "      <td>3796.750000</td>\n",
              "      <td>1979.500000</td>\n",
              "      <td>944.750000</td>\n",
              "      <td>1029.000000</td>\n",
              "      <td>59.250000</td>\n",
              "    </tr>\n",
              "    <tr>\n",
              "      <th>max</th>\n",
              "      <td>6768.000000</td>\n",
              "      <td>8190.000000</td>\n",
              "      <td>8662.000000</td>\n",
              "      <td>9971.000000</td>\n",
              "      <td>13143.000000</td>\n",
              "      <td>6258.000000</td>\n",
              "      <td>3516.000000</td>\n",
              "      <td>4064.000000</td>\n",
              "      <td>1323.000000</td>\n",
              "    </tr>\n",
              "  </tbody>\n",
              "</table>\n",
              "</div>"
            ],
            "text/plain": [
              "       earlymorning  latemorning  ...     twilight      Unknown\n",
              "count     36.000000    36.000000  ...    36.000000    36.000000\n",
              "mean    1365.694444  1854.638889  ...   699.638889    93.111111\n",
              "std     1791.566781  2411.684914  ...   922.591882   244.190883\n",
              "min        0.000000     0.000000  ...     0.000000     0.000000\n",
              "25%       53.500000    45.500000  ...    14.000000     0.000000\n",
              "50%      659.000000   789.500000  ...   401.000000     0.500000\n",
              "75%     1951.000000  2659.500000  ...  1029.000000    59.250000\n",
              "max     6768.000000  8190.000000  ...  4064.000000  1323.000000\n",
              "\n",
              "[8 rows x 9 columns]"
            ]
          },
          "metadata": {},
          "execution_count": 6
        }
      ]
    },
    {
      "cell_type": "code",
      "metadata": {
        "id": "YX7zXzD3mgpl"
      },
      "source": [
        "#outliers"
      ],
      "execution_count": null,
      "outputs": []
    },
    {
      "cell_type": "code",
      "metadata": {
        "colab": {
          "base_uri": "https://localhost:8080/",
          "height": 297
        },
        "id": "FjzKMMi6mib4",
        "outputId": "1ef872f8-41fb-4aec-d635-e509a12d4cb0"
      },
      "source": [
        "sns.boxplot(x='latemorning',data=data)"
      ],
      "execution_count": null,
      "outputs": [
        {
          "output_type": "execute_result",
          "data": {
            "text/plain": [
              "<matplotlib.axes._subplots.AxesSubplot at 0x7f20514bf7d0>"
            ]
          },
          "metadata": {},
          "execution_count": 8
        },
        {
          "output_type": "display_data",
          "data": {
            "image/png": "[encoded data removed]",
            "text/plain": [
              "<Figure size 432x288 with 1 Axes>"
            ]
          },
          "metadata": {
            "needs_background": "light"
          }
        }
      ]
    },
    {
      "cell_type": "code",
      "metadata": {
        "colab": {
          "base_uri": "https://localhost:8080/"
        },
        "id": "l5ZEkpt3n8Y6",
        "outputId": "1edc98b6-e96c-4ea8-f340-d61efd26775e"
      },
      "source": [
        "Q1 = data.quantile(0.25)\n",
        "Q3 = data.quantile(0.75)\n",
        "IQR = Q3 - Q1\n",
        "print(IQR)"
      ],
      "execution_count": null,
      "outputs": [
        {
          "output_type": "stream",
          "name": "stdout",
          "text": [
            "earlymorning      1897.50\n",
            "latemorning       2614.00\n",
            "earlyafternoon    2686.25\n",
            "lateafternoon     3085.50\n",
            "earlyevening      3726.50\n",
            "lateevening       1922.50\n",
            "midnight           922.50\n",
            "twilight          1015.00\n",
            "Unknown             59.25\n",
            "dtype: float64\n"
          ]
        }
      ]
    },
    {
      "cell_type": "code",
      "metadata": {
        "colab": {
          "base_uri": "https://localhost:8080/"
        },
        "id": "VTmbz0N7oRgp",
        "outputId": "81db86cf-bc1b-49eb-8f8e-cdd5123d2783"
      },
      "source": [
        "print(data < Q1 - 1.5 * IQR)"
      ],
      "execution_count": null,
      "outputs": [
        {
          "output_type": "stream",
          "name": "stdout",
          "text": [
            "    States/UTs  Unknown  earlyafternoon  ...  latemorning  midnight  twilight\n",
            "0        False    False           False  ...        False     False     False\n",
            "1        False    False           False  ...        False     False     False\n",
            "2        False    False           False  ...        False     False     False\n",
            "3        False    False           False  ...        False     False     False\n",
            "4        False    False           False  ...        False     False     False\n",
            "5        False    False           False  ...        False     False     False\n",
            "6        False    False           False  ...        False     False     False\n",
            "7        False    False           False  ...        False     False     False\n",
            "8        False    False           False  ...        False     False     False\n",
            "9        False    False           False  ...        False     False     False\n",
            "10       False    False           False  ...        False     False     False\n",
            "11       False    False           False  ...        False     False     False\n",
            "12       False    False           False  ...        False     False     False\n",
            "13       False    False           False  ...        False     False     False\n",
            "14       False    False           False  ...        False     False     False\n",
            "15       False    False           False  ...        False     False     False\n",
            "16       False    False           False  ...        False     False     False\n",
            "17       False    False           False  ...        False     False     False\n",
            "18       False    False           False  ...        False     False     False\n",
            "19       False    False           False  ...        False     False     False\n",
            "20       False    False           False  ...        False     False     False\n",
            "21       False    False           False  ...        False     False     False\n",
            "22       False    False           False  ...        False     False     False\n",
            "23       False    False           False  ...        False     False     False\n",
            "24       False    False           False  ...        False     False     False\n",
            "25       False    False           False  ...        False     False     False\n",
            "26       False    False           False  ...        False     False     False\n",
            "27       False    False           False  ...        False     False     False\n",
            "28       False    False           False  ...        False     False     False\n",
            "29       False    False           False  ...        False     False     False\n",
            "30       False    False           False  ...        False     False     False\n",
            "31       False    False           False  ...        False     False     False\n",
            "32       False    False           False  ...        False     False     False\n",
            "33       False    False           False  ...        False     False     False\n",
            "34       False    False           False  ...        False     False     False\n",
            "35       False    False           False  ...        False     False     False\n",
            "\n",
            "[36 rows x 10 columns]\n"
          ]
        }
      ]
    },
    {
      "cell_type": "code",
      "metadata": {
        "id": "PHXORWJiTwI-"
      },
      "source": [
        "#feature engineering"
      ],
      "execution_count": null,
      "outputs": []
    },
    {
      "cell_type": "code",
      "metadata": {
        "colab": {
          "base_uri": "https://localhost:8080/",
          "height": 206
        },
        "id": "sZvY1TbtUJCE",
        "outputId": "7f9214e4-44af-474b-b957-793c6ce0d83f"
      },
      "source": [
        "data.head()"
      ],
      "execution_count": null,
      "outputs": [
        {
          "output_type": "execute_result",
          "data": {
            "text/html": [
              "<div>\n",
              "<style scoped>\n",
              "    .dataframe tbody tr th:only-of-type {\n",
              "        vertical-align: middle;\n",
              "    }\n",
              "\n",
              "    .dataframe tbody tr th {\n",
              "        vertical-align: top;\n",
              "    }\n",
              "\n",
              "    .dataframe thead th {\n",
              "        text-align: right;\n",
              "    }\n",
              "</style>\n",
              "<table border=\"1\" class=\"dataframe\">\n",
              "  <thead>\n",
              "    <tr style=\"text-align: right;\">\n",
              "      <th></th>\n",
              "      <th>States/UTs</th>\n",
              "      <th>earlymorning</th>\n",
              "      <th>latemorning</th>\n",
              "      <th>earlyafternoon</th>\n",
              "      <th>lateafternoon</th>\n",
              "      <th>earlyevening</th>\n",
              "      <th>lateevening</th>\n",
              "      <th>midnight</th>\n",
              "      <th>twilight</th>\n",
              "      <th>Unknown</th>\n",
              "    </tr>\n",
              "  </thead>\n",
              "  <tbody>\n",
              "    <tr>\n",
              "      <th>0</th>\n",
              "      <td>Andhra Pradesh</td>\n",
              "      <td>2453</td>\n",
              "      <td>3069</td>\n",
              "      <td>3437</td>\n",
              "      <td>3919</td>\n",
              "      <td>4633</td>\n",
              "      <td>2188</td>\n",
              "      <td>947</td>\n",
              "      <td>1300</td>\n",
              "      <td>46</td>\n",
              "    </tr>\n",
              "    <tr>\n",
              "      <th>1</th>\n",
              "      <td>Arunachal Pradesh</td>\n",
              "      <td>40</td>\n",
              "      <td>46</td>\n",
              "      <td>22</td>\n",
              "      <td>34</td>\n",
              "      <td>26</td>\n",
              "      <td>23</td>\n",
              "      <td>25</td>\n",
              "      <td>11</td>\n",
              "      <td>10</td>\n",
              "    </tr>\n",
              "    <tr>\n",
              "      <th>2</th>\n",
              "      <td>Assam</td>\n",
              "      <td>1068</td>\n",
              "      <td>1536</td>\n",
              "      <td>1299</td>\n",
              "      <td>1464</td>\n",
              "      <td>1284</td>\n",
              "      <td>747</td>\n",
              "      <td>395</td>\n",
              "      <td>501</td>\n",
              "      <td>56</td>\n",
              "    </tr>\n",
              "    <tr>\n",
              "      <th>3</th>\n",
              "      <td>Bihar</td>\n",
              "      <td>1859</td>\n",
              "      <td>1791</td>\n",
              "      <td>1261</td>\n",
              "      <td>1437</td>\n",
              "      <td>1288</td>\n",
              "      <td>462</td>\n",
              "      <td>165</td>\n",
              "      <td>1744</td>\n",
              "      <td>0</td>\n",
              "    </tr>\n",
              "    <tr>\n",
              "      <th>4</th>\n",
              "      <td>Chhattisgarh</td>\n",
              "      <td>1426</td>\n",
              "      <td>2063</td>\n",
              "      <td>2238</td>\n",
              "      <td>2679</td>\n",
              "      <td>3085</td>\n",
              "      <td>1439</td>\n",
              "      <td>454</td>\n",
              "      <td>515</td>\n",
              "      <td>0</td>\n",
              "    </tr>\n",
              "  </tbody>\n",
              "</table>\n",
              "</div>"
            ],
            "text/plain": [
              "          States/UTs  earlymorning  latemorning  ...  midnight  twilight  Unknown\n",
              "0     Andhra Pradesh          2453         3069  ...       947      1300       46\n",
              "1  Arunachal Pradesh            40           46  ...        25        11       10\n",
              "2              Assam          1068         1536  ...       395       501       56\n",
              "3              Bihar          1859         1791  ...       165      1744        0\n",
              "4       Chhattisgarh          1426         2063  ...       454       515        0\n",
              "\n",
              "[5 rows x 10 columns]"
            ]
          },
          "metadata": {},
          "execution_count": 12
        }
      ]
    },
    {
      "cell_type": "code",
      "metadata": {
        "id": "rNZUOqE0VWz_"
      },
      "source": [
        "data.loc[(data.earlymorning < 2000), 'emorning'] = 0\n",
        "data.loc[(data.earlymorning > 2000), 'emorning'] = 1\n",
        "data.loc[(data.earlymorning > 4000), 'emorning'] = 2\n",
        "data.loc[(data.earlymorning > 6000), 'emorning'] = 3"
      ],
      "execution_count": null,
      "outputs": []
    },
    {
      "cell_type": "code",
      "metadata": {
        "colab": {
          "base_uri": "https://localhost:8080/"
        },
        "id": "vSn4tGzhfUBV",
        "outputId": "94dfb106-4d45-4098-deff-f42d28729b9c"
      },
      "source": [
        "print(data)"
      ],
      "execution_count": null,
      "outputs": [
        {
          "output_type": "stream",
          "name": "stdout",
          "text": [
            "           States/UTs  earlymorning  latemorning  ...  twilight  Unknown  emorning\n",
            "0      Andhra Pradesh          2453         3069  ...      1300       46       1.0\n",
            "1   Arunachal Pradesh            40           46  ...        11       10       0.0\n",
            "2               Assam          1068         1536  ...       501       56       0.0\n",
            "3               Bihar          1859         1791  ...      1744        0       0.0\n",
            "4        Chhattisgarh          1426         2063  ...       515        0       0.0\n",
            "5                 Goa           300          506  ...       151        0       0.0\n",
            "6             Gujarat          1791         2523  ...       819       22       0.0\n",
            "7             Haryana          1173         1359  ...       912      447       0.0\n",
            "8    Himachal Pradesh           235          419  ...        99        0       0.0\n",
            "9     Jammu & Kashmir           514         1097  ...       167        0       0.0\n",
            "10          Jharkhand           671          853  ...       394      141       0.0\n",
            "11          Karnataka          4079         5917  ...      1787        0       2.0\n",
            "12             Kerala          4904         7705  ...      1143       64       2.0\n",
            "13     Madhya Pradesh          3958         7289  ...      1821      255       1.0\n",
            "14        Maharashtra          3332         4487  ...      2151      174       1.0\n",
            "15            Manipur            66           90  ...        15        0       0.0\n",
            "16          Meghalaya            63           44  ...        52        0       0.0\n",
            "17            Mizoram             7            8  ...         4        0       0.0\n",
            "18           Nagaland            31           39  ...        29        0       0.0\n",
            "19             Orissa          1025         1602  ...       744       58       0.0\n",
            "20             Punjab           647          682  ...       408      554       0.0\n",
            "21          Rajasthan          2485         3388  ...      1153        0       1.0\n",
            "22             Sikkim            15           20  ...         7        1       0.0\n",
            "23         Tamil Nadu          6768         8190  ...      2781        0       3.0\n",
            "24          Telangana          2227         3105  ...       991       35       1.0\n",
            "25            Tripura            56          134  ...         8        1       0.0\n",
            "26        Uttarakhand           147          179  ...        94       63       0.0\n",
            "27      Uttar Pradesh          5818         5933  ...      4064     1323       2.0\n",
            "28        West Bengal          1073         1698  ...       685        0       0.0\n",
            "29      A & N Islands            26           39  ...         3        0       0.0\n",
            "30         Chandigarh            46           36  ...         7       11       0.0\n",
            "31       D & N Haveli             5            4  ...         0        0       0.0\n",
            "32        Daman & Diu             1            5  ...         2        0       0.0\n",
            "33              Delhi           676          726  ...       463       91       0.0\n",
            "34        Lakshadweep             0            0  ...         0        0       0.0\n",
            "35         Puducherry           180          185  ...       162        0       0.0\n",
            "\n",
            "[36 rows x 11 columns]\n"
          ]
        }
      ]
    },
    {
      "cell_type": "code",
      "metadata": {
        "colab": {
          "base_uri": "https://localhost:8080/",
          "height": 206
        },
        "id": "h6yd-7AchHkc",
        "outputId": "54da1518-08c7-4b5d-b9e3-bd4a853dd58d"
      },
      "source": [
        "data.head()"
      ],
      "execution_count": null,
      "outputs": [
        {
          "output_type": "execute_result",
          "data": {
            "text/html": [
              "<div>\n",
              "<style scoped>\n",
              "    .dataframe tbody tr th:only-of-type {\n",
              "        vertical-align: middle;\n",
              "    }\n",
              "\n",
              "    .dataframe tbody tr th {\n",
              "        vertical-align: top;\n",
              "    }\n",
              "\n",
              "    .dataframe thead th {\n",
              "        text-align: right;\n",
              "    }\n",
              "</style>\n",
              "<table border=\"1\" class=\"dataframe\">\n",
              "  <thead>\n",
              "    <tr style=\"text-align: right;\">\n",
              "      <th></th>\n",
              "      <th>States/UTs</th>\n",
              "      <th>earlymorning</th>\n",
              "      <th>latemorning</th>\n",
              "      <th>earlyafternoon</th>\n",
              "      <th>lateafternoon</th>\n",
              "      <th>earlyevening</th>\n",
              "      <th>lateevening</th>\n",
              "      <th>midnight</th>\n",
              "      <th>twilight</th>\n",
              "      <th>Unknown</th>\n",
              "      <th>emorning</th>\n",
              "    </tr>\n",
              "  </thead>\n",
              "  <tbody>\n",
              "    <tr>\n",
              "      <th>0</th>\n",
              "      <td>Andhra Pradesh</td>\n",
              "      <td>2453</td>\n",
              "      <td>3069</td>\n",
              "      <td>3437</td>\n",
              "      <td>3919</td>\n",
              "      <td>4633</td>\n",
              "      <td>2188</td>\n",
              "      <td>947</td>\n",
              "      <td>1300</td>\n",
              "      <td>46</td>\n",
              "      <td>1.0</td>\n",
              "    </tr>\n",
              "    <tr>\n",
              "      <th>1</th>\n",
              "      <td>Arunachal Pradesh</td>\n",
              "      <td>40</td>\n",
              "      <td>46</td>\n",
              "      <td>22</td>\n",
              "      <td>34</td>\n",
              "      <td>26</td>\n",
              "      <td>23</td>\n",
              "      <td>25</td>\n",
              "      <td>11</td>\n",
              "      <td>10</td>\n",
              "      <td>0.0</td>\n",
              "    </tr>\n",
              "    <tr>\n",
              "      <th>2</th>\n",
              "      <td>Assam</td>\n",
              "      <td>1068</td>\n",
              "      <td>1536</td>\n",
              "      <td>1299</td>\n",
              "      <td>1464</td>\n",
              "      <td>1284</td>\n",
              "      <td>747</td>\n",
              "      <td>395</td>\n",
              "      <td>501</td>\n",
              "      <td>56</td>\n",
              "      <td>0.0</td>\n",
              "    </tr>\n",
              "    <tr>\n",
              "      <th>3</th>\n",
              "      <td>Bihar</td>\n",
              "      <td>1859</td>\n",
              "      <td>1791</td>\n",
              "      <td>1261</td>\n",
              "      <td>1437</td>\n",
              "      <td>1288</td>\n",
              "      <td>462</td>\n",
              "      <td>165</td>\n",
              "      <td>1744</td>\n",
              "      <td>0</td>\n",
              "      <td>0.0</td>\n",
              "    </tr>\n",
              "    <tr>\n",
              "      <th>4</th>\n",
              "      <td>Chhattisgarh</td>\n",
              "      <td>1426</td>\n",
              "      <td>2063</td>\n",
              "      <td>2238</td>\n",
              "      <td>2679</td>\n",
              "      <td>3085</td>\n",
              "      <td>1439</td>\n",
              "      <td>454</td>\n",
              "      <td>515</td>\n",
              "      <td>0</td>\n",
              "      <td>0.0</td>\n",
              "    </tr>\n",
              "  </tbody>\n",
              "</table>\n",
              "</div>"
            ],
            "text/plain": [
              "          States/UTs  earlymorning  latemorning  ...  twilight  Unknown  emorning\n",
              "0     Andhra Pradesh          2453         3069  ...      1300       46       1.0\n",
              "1  Arunachal Pradesh            40           46  ...        11       10       0.0\n",
              "2              Assam          1068         1536  ...       501       56       0.0\n",
              "3              Bihar          1859         1791  ...      1744        0       0.0\n",
              "4       Chhattisgarh          1426         2063  ...       515        0       0.0\n",
              "\n",
              "[5 rows x 11 columns]"
            ]
          },
          "metadata": {},
          "execution_count": 16
        }
      ]
    },
    {
      "cell_type": "code",
      "metadata": {
        "colab": {
          "base_uri": "https://localhost:8080/"
        },
        "id": "K2pbG6SEmBey",
        "outputId": "97cbb998-6aa6-496c-cb37-73298bdfe8c6"
      },
      "source": [
        "data.latemorning.describe()"
      ],
      "execution_count": null,
      "outputs": [
        {
          "output_type": "execute_result",
          "data": {
            "text/plain": [
              "count      36.000000\n",
              "mean     1854.638889\n",
              "std      2411.684914\n",
              "min         0.000000\n",
              "25%        45.500000\n",
              "50%       789.500000\n",
              "75%      2659.500000\n",
              "max      8190.000000\n",
              "Name: latemorning, dtype: float64"
            ]
          },
          "metadata": {},
          "execution_count": 17
        }
      ]
    },
    {
      "cell_type": "code",
      "metadata": {
        "id": "312GTxs-pUPW"
      },
      "source": [
        "data.loc[(data.latemorning < 2000), 'lmorning'] = 0\n",
        "data.loc[(data.latemorning > 2000), 'lmorning'] = 1\n",
        "data.loc[(data.latemorning > 4000), 'lmorning'] = 2\n",
        "data.loc[(data.latemorning > 6000), 'lmorning'] = 3\n",
        "data.loc[(data.latemorning > 8000), 'lmorning'] = 4"
      ],
      "execution_count": null,
      "outputs": []
    },
    {
      "cell_type": "code",
      "metadata": {
        "colab": {
          "base_uri": "https://localhost:8080/"
        },
        "id": "P6Y-XrzRp3bL",
        "outputId": "99171136-f11c-4657-8511-b1cf207d9dbe"
      },
      "source": [
        "data.earlyafternoon.describe()"
      ],
      "execution_count": null,
      "outputs": [
        {
          "output_type": "execute_result",
          "data": {
            "text/plain": [
              "count      36.000000\n",
              "mean     1878.416667\n",
              "std      2457.683083\n",
              "min         0.000000\n",
              "25%        51.750000\n",
              "50%       737.500000\n",
              "75%      2738.000000\n",
              "max      8662.000000\n",
              "Name: earlyafternoon, dtype: float64"
            ]
          },
          "metadata": {},
          "execution_count": 18
        }
      ]
    },
    {
      "cell_type": "code",
      "metadata": {
        "id": "mahAcYbUqbB6"
      },
      "source": [
        "data.loc[(data.earlyafternoon < 2000), 'eafternoon'] = 0\n",
        "data.loc[(data.earlyafternoon > 2000), 'eafternoon'] = 1\n",
        "data.loc[(data.earlyafternoon > 4000), 'eafternoon'] = 2\n",
        "data.loc[(data.earlyafternoon > 6000), 'eafternoon'] = 3\n",
        "data.loc[(data.earlyafternoon > 8000), 'eafternoon'] = 4"
      ],
      "execution_count": null,
      "outputs": []
    },
    {
      "cell_type": "code",
      "metadata": {
        "colab": {
          "base_uri": "https://localhost:8080/"
        },
        "id": "OOqfcIETq5ri",
        "outputId": "5b9cf7e4-2ded-47ba-8ee7-ce2540993d6f"
      },
      "source": [
        "data.lateafternoon.describe()"
      ],
      "execution_count": null,
      "outputs": [
        {
          "output_type": "execute_result",
          "data": {
            "text/plain": [
              "count      36.000000\n",
              "mean     2180.916667\n",
              "std      2896.498244\n",
              "min         0.000000\n",
              "25%        70.000000\n",
              "50%       844.500000\n",
              "75%      3155.500000\n",
              "max      9971.000000\n",
              "Name: lateafternoon, dtype: float64"
            ]
          },
          "metadata": {},
          "execution_count": 21
        }
      ]
    },
    {
      "cell_type": "code",
      "metadata": {
        "id": "W179KFiwq_q-"
      },
      "source": [
        "data.loc[(data.lateafternoon < 2000), 'lafternoon'] = 0\n",
        "data.loc[(data.lateafternoon > 2000), 'lafternoon'] = 1\n",
        "data.loc[(data.lateafternoon > 4000), 'lafternoon'] = 2\n",
        "data.loc[(data.lateafternoon > 6000), 'lafternoon'] = 3\n",
        "data.loc[(data.lateafternoon > 8000), 'lafternoon'] = 4"
      ],
      "execution_count": null,
      "outputs": []
    },
    {
      "cell_type": "code",
      "metadata": {
        "colab": {
          "base_uri": "https://localhost:8080/"
        },
        "id": "gQx1U9NArm2E",
        "outputId": "7d56cc9f-9502-482f-a6e7-e429eaf9ca95"
      },
      "source": [
        "data.earlyevening.describe()"
      ],
      "execution_count": null,
      "outputs": [
        {
          "output_type": "execute_result",
          "data": {
            "text/plain": [
              "count       36.000000\n",
              "mean      2401.444444\n",
              "std       3317.503463\n",
              "min          1.000000\n",
              "25%         70.250000\n",
              "50%        884.000000\n",
              "75%       3796.750000\n",
              "max      13143.000000\n",
              "Name: earlyevening, dtype: float64"
            ]
          },
          "metadata": {},
          "execution_count": 23
        }
      ]
    },
    {
      "cell_type": "code",
      "metadata": {
        "id": "5LcAnrzHry78"
      },
      "source": [
        "data.loc[(data.earlyevening < 2500), 'eevening'] = 0\n",
        "data.loc[(data.earlyevening > 2500), 'eevening'] = 1\n",
        "data.loc[(data.earlyevening > 5000), 'eevening'] = 2\n",
        "data.loc[(data.earlyevening > 7500), 'eevening'] = 3\n",
        "data.loc[(data.earlyevening > 10000), 'eevening'] = 4"
      ],
      "execution_count": null,
      "outputs": []
    },
    {
      "cell_type": "code",
      "metadata": {
        "colab": {
          "base_uri": "https://localhost:8080/"
        },
        "id": "5VaHc4jysOpr",
        "outputId": "1ebb24a7-a541-4a91-9dcc-2fd9023bbaf4"
      },
      "source": [
        "data.lateevening.describe()"
      ],
      "execution_count": null,
      "outputs": [
        {
          "output_type": "execute_result",
          "data": {
            "text/plain": [
              "count      36.000000\n",
              "mean     1343.611111\n",
              "std      1827.096295\n",
              "min         0.000000\n",
              "25%        57.000000\n",
              "50%       441.000000\n",
              "75%      1979.500000\n",
              "max      6258.000000\n",
              "Name: lateevening, dtype: float64"
            ]
          },
          "metadata": {},
          "execution_count": 25
        }
      ]
    },
    {
      "cell_type": "code",
      "metadata": {
        "id": "N2WvMyIKxHA9"
      },
      "source": [
        "data.loc[(data.lateevening < 1500), 'levening'] = 0\n",
        "data.loc[(data.lateevening > 1500), 'levening'] = 1\n",
        "data.loc[(data.lateevening > 3000), 'levening'] = 2\n",
        "data.loc[(data.lateevening > 4500), 'levening'] = 3"
      ],
      "execution_count": null,
      "outputs": []
    },
    {
      "cell_type": "code",
      "metadata": {
        "colab": {
          "base_uri": "https://localhost:8080/"
        },
        "id": "Dnbl6eebxwTx",
        "outputId": "f2799742-312b-4a08-96ad-37cd72c5f771"
      },
      "source": [
        "data.midnight.describe()"
      ],
      "execution_count": null,
      "outputs": [
        {
          "output_type": "execute_result",
          "data": {
            "text/plain": [
              "count      36.000000\n",
              "mean      654.805556\n",
              "std       862.991039\n",
              "min         0.000000\n",
              "25%        22.250000\n",
              "50%       277.500000\n",
              "75%       944.750000\n",
              "max      3516.000000\n",
              "Name: midnight, dtype: float64"
            ]
          },
          "metadata": {},
          "execution_count": 27
        }
      ]
    },
    {
      "cell_type": "code",
      "metadata": {
        "id": "A3KSSBpcx5mu"
      },
      "source": [
        "data.loc[(data.midnight < 1000), 'mnight'] = 0\n",
        "data.loc[(data.midnight > 1000), 'mnight'] = 1\n",
        "data.loc[(data.midnight > 2000), 'mnight'] = 2\n",
        "data.loc[(data.midnight > 3000), 'mnight'] = 3"
      ],
      "execution_count": null,
      "outputs": []
    },
    {
      "cell_type": "code",
      "metadata": {
        "colab": {
          "base_uri": "https://localhost:8080/"
        },
        "id": "SGal53pVySZ9",
        "outputId": "e370fade-889f-4a56-b5c4-58f31acee3b8"
      },
      "source": [
        "data.twilight.describe()"
      ],
      "execution_count": null,
      "outputs": [
        {
          "output_type": "execute_result",
          "data": {
            "text/plain": [
              "count      36.000000\n",
              "mean      699.638889\n",
              "std       922.591882\n",
              "min         0.000000\n",
              "25%        14.000000\n",
              "50%       401.000000\n",
              "75%      1029.000000\n",
              "max      4064.000000\n",
              "Name: twilight, dtype: float64"
            ]
          },
          "metadata": {},
          "execution_count": 29
        }
      ]
    },
    {
      "cell_type": "code",
      "metadata": {
        "id": "HlYlUT9fyXyG"
      },
      "source": [
        "data.loc[(data.twilight < 1500), 'tlight'] = 0\n",
        "data.loc[(data.twilight > 1500), 'tlight'] = 1\n",
        "data.loc[(data.twilight > 3000), 'tlight'] = 2\n",
        "data.loc[(data.twilight > 4500), 'tlight'] = 3"
      ],
      "execution_count": null,
      "outputs": []
    },
    {
      "cell_type": "code",
      "metadata": {
        "colab": {
          "base_uri": "https://localhost:8080/"
        },
        "id": "ZUqNI_Ilyusz",
        "outputId": "94f35148-aebe-45c1-aef4-1d960ff677ab"
      },
      "source": [
        "data.Unknown.describe()"
      ],
      "execution_count": null,
      "outputs": [
        {
          "output_type": "execute_result",
          "data": {
            "text/plain": [
              "count      36.000000\n",
              "mean       93.111111\n",
              "std       244.190883\n",
              "min         0.000000\n",
              "25%         0.000000\n",
              "50%         0.500000\n",
              "75%        59.250000\n",
              "max      1323.000000\n",
              "Name: Unknown, dtype: float64"
            ]
          },
          "metadata": {},
          "execution_count": 31
        }
      ]
    },
    {
      "cell_type": "code",
      "metadata": {
        "id": "CwEES2hAy8PI"
      },
      "source": [
        "data.loc[(data.Unknown < 250), 'unknown'] = 0\n",
        "data.loc[(data.Unknown > 250), 'unknown'] = 1\n",
        "data.loc[(data.Unknown > 500), 'unknown'] = 2\n",
        "data.loc[(data.Unknown > 1000), 'unknown'] = 3"
      ],
      "execution_count": null,
      "outputs": []
    },
    {
      "cell_type": "code",
      "metadata": {
        "id": "nQrfuA0WzKOz"
      },
      "source": [
        "data_new = data.drop(columns=['earlymorning','latemorning','earlyafternoon','lateafternoon','earlyevening','lateevening','midnight','twilight','Unknown'])"
      ],
      "execution_count": null,
      "outputs": []
    },
    {
      "cell_type": "code",
      "metadata": {
        "colab": {
          "base_uri": "https://localhost:8080/",
          "height": 206
        },
        "id": "E6rLkMk30EGJ",
        "outputId": "2bb6ef66-6228-4a1e-9dfa-0a517c515076"
      },
      "source": [
        "data_new.head()"
      ],
      "execution_count": null,
      "outputs": [
        {
          "output_type": "execute_result",
          "data": {
            "text/html": [
              "<div>\n",
              "<style scoped>\n",
              "    .dataframe tbody tr th:only-of-type {\n",
              "        vertical-align: middle;\n",
              "    }\n",
              "\n",
              "    .dataframe tbody tr th {\n",
              "        vertical-align: top;\n",
              "    }\n",
              "\n",
              "    .dataframe thead th {\n",
              "        text-align: right;\n",
              "    }\n",
              "</style>\n",
              "<table border=\"1\" class=\"dataframe\">\n",
              "  <thead>\n",
              "    <tr style=\"text-align: right;\">\n",
              "      <th></th>\n",
              "      <th>States/UTs</th>\n",
              "      <th>emorning</th>\n",
              "      <th>lmorning</th>\n",
              "      <th>eafternoon</th>\n",
              "      <th>lafternoon</th>\n",
              "      <th>eevening</th>\n",
              "      <th>levening</th>\n",
              "      <th>mnight</th>\n",
              "      <th>tlight</th>\n",
              "      <th>unknown</th>\n",
              "    </tr>\n",
              "  </thead>\n",
              "  <tbody>\n",
              "    <tr>\n",
              "      <th>0</th>\n",
              "      <td>Andhra Pradesh</td>\n",
              "      <td>1.0</td>\n",
              "      <td>1.0</td>\n",
              "      <td>1.0</td>\n",
              "      <td>1.0</td>\n",
              "      <td>1.0</td>\n",
              "      <td>1.0</td>\n",
              "      <td>0.0</td>\n",
              "      <td>0.0</td>\n",
              "      <td>0.0</td>\n",
              "    </tr>\n",
              "    <tr>\n",
              "      <th>1</th>\n",
              "      <td>Arunachal Pradesh</td>\n",
              "      <td>0.0</td>\n",
              "      <td>0.0</td>\n",
              "      <td>0.0</td>\n",
              "      <td>0.0</td>\n",
              "      <td>0.0</td>\n",
              "      <td>0.0</td>\n",
              "      <td>0.0</td>\n",
              "      <td>0.0</td>\n",
              "      <td>0.0</td>\n",
              "    </tr>\n",
              "    <tr>\n",
              "      <th>2</th>\n",
              "      <td>Assam</td>\n",
              "      <td>0.0</td>\n",
              "      <td>0.0</td>\n",
              "      <td>0.0</td>\n",
              "      <td>0.0</td>\n",
              "      <td>0.0</td>\n",
              "      <td>0.0</td>\n",
              "      <td>0.0</td>\n",
              "      <td>0.0</td>\n",
              "      <td>0.0</td>\n",
              "    </tr>\n",
              "    <tr>\n",
              "      <th>3</th>\n",
              "      <td>Bihar</td>\n",
              "      <td>0.0</td>\n",
              "      <td>0.0</td>\n",
              "      <td>0.0</td>\n",
              "      <td>0.0</td>\n",
              "      <td>0.0</td>\n",
              "      <td>0.0</td>\n",
              "      <td>0.0</td>\n",
              "      <td>1.0</td>\n",
              "      <td>0.0</td>\n",
              "    </tr>\n",
              "    <tr>\n",
              "      <th>4</th>\n",
              "      <td>Chhattisgarh</td>\n",
              "      <td>0.0</td>\n",
              "      <td>1.0</td>\n",
              "      <td>1.0</td>\n",
              "      <td>1.0</td>\n",
              "      <td>1.0</td>\n",
              "      <td>0.0</td>\n",
              "      <td>0.0</td>\n",
              "      <td>0.0</td>\n",
              "      <td>0.0</td>\n",
              "    </tr>\n",
              "  </tbody>\n",
              "</table>\n",
              "</div>"
            ],
            "text/plain": [
              "          States/UTs  emorning  lmorning  ...  mnight  tlight  unknown\n",
              "0     Andhra Pradesh       1.0       1.0  ...     0.0     0.0      0.0\n",
              "1  Arunachal Pradesh       0.0       0.0  ...     0.0     0.0      0.0\n",
              "2              Assam       0.0       0.0  ...     0.0     0.0      0.0\n",
              "3              Bihar       0.0       0.0  ...     0.0     1.0      0.0\n",
              "4       Chhattisgarh       0.0       1.0  ...     0.0     0.0      0.0\n",
              "\n",
              "[5 rows x 10 columns]"
            ]
          },
          "metadata": {},
          "execution_count": 35
        }
      ]
    },
    {
      "cell_type": "code",
      "metadata": {
        "colab": {
          "base_uri": "https://localhost:8080/"
        },
        "id": "SVq1JprP1MZL",
        "outputId": "d41e2af0-33a6-499e-c7ee-d7312062f6b6"
      },
      "source": [
        "pd.set_option('display.max_rows', None)\n",
        "pd.set_option('display.max_columns', None)\n",
        "pd.set_option('display.width', None)\n",
        "pd.set_option('display.max_colwidth', None)\n",
        "\n",
        "\n",
        "print(data_new)"
      ],
      "execution_count": null,
      "outputs": [
        {
          "output_type": "stream",
          "name": "stdout",
          "text": [
            "    index         States/UTs  emorning  lmorning  eafternoon  lafternoon  \\\n",
            "0       0     Andhra Pradesh       1.0       1.0         1.0         1.0   \n",
            "1       1  Arunachal Pradesh       0.0       0.0         0.0         0.0   \n",
            "2       2              Assam       0.0       0.0         0.0         0.0   \n",
            "3       3              Bihar       0.0       0.0         0.0         0.0   \n",
            "4       4       Chhattisgarh       0.0       1.0         1.0         1.0   \n",
            "5       5                Goa       0.0       0.0         0.0         0.0   \n",
            "6       6            Gujarat       0.0       1.0         1.0         1.0   \n",
            "7       7            Haryana       0.0       0.0         0.0         0.0   \n",
            "8       8   Himachal Pradesh       0.0       0.0         0.0         0.0   \n",
            "9       9    Jammu & Kashmir       0.0       0.0         0.0         0.0   \n",
            "10     10          Jharkhand       0.0       0.0         0.0         0.0   \n",
            "11     11          Karnataka       2.0       2.0         3.0         3.0   \n",
            "12     12             Kerala       2.0       3.0         3.0         4.0   \n",
            "13     13     Madhya Pradesh       1.0       3.0         4.0         4.0   \n",
            "14     14        Maharashtra       1.0       2.0         2.0         2.0   \n",
            "15     15            Manipur       0.0       0.0         0.0         0.0   \n",
            "16     16          Meghalaya       0.0       0.0         0.0         0.0   \n",
            "17     17            Mizoram       0.0       0.0         0.0         0.0   \n",
            "18     18           Nagaland       0.0       0.0         0.0         0.0   \n",
            "19     19             Orissa       0.0       0.0         0.0         0.0   \n",
            "20     20             Punjab       0.0       0.0         0.0         0.0   \n",
            "21     21          Rajasthan       1.0       1.0         1.0         2.0   \n",
            "22     22             Sikkim       0.0       0.0         0.0         0.0   \n",
            "23     23         Tamil Nadu       3.0       4.0         4.0         4.0   \n",
            "24     24          Telangana       1.0       1.0         1.0         2.0   \n",
            "25     25            Tripura       0.0       0.0         0.0         0.0   \n",
            "26     26        Uttarakhand       0.0       0.0         0.0         0.0   \n",
            "27     27      Uttar Pradesh       2.0       2.0         2.0         2.0   \n",
            "28     28        West Bengal       0.0       0.0         0.0         0.0   \n",
            "29     29      A & N Islands       0.0       0.0         0.0         0.0   \n",
            "30     30         Chandigarh       0.0       0.0         0.0         0.0   \n",
            "31     31       D & N Haveli       0.0       0.0         0.0         0.0   \n",
            "32     32        Daman & Diu       0.0       0.0         0.0         0.0   \n",
            "33     33              Delhi       0.0       0.0         0.0         0.0   \n",
            "34     34        Lakshadweep       0.0       0.0         0.0         0.0   \n",
            "35     35         Puducherry       0.0       0.0         0.0         0.0   \n",
            "\n",
            "    eevening  levening  mnight  tlight  unknown  \n",
            "0        1.0       1.0     0.0     0.0      0.0  \n",
            "1        0.0       0.0     0.0     0.0      0.0  \n",
            "2        0.0       0.0     0.0     0.0      0.0  \n",
            "3        0.0       0.0     0.0     1.0      0.0  \n",
            "4        1.0       0.0     0.0     0.0      0.0  \n",
            "5        0.0       0.0     0.0     0.0      0.0  \n",
            "6        1.0       1.0     0.0     0.0      0.0  \n",
            "7        0.0       0.0     0.0     0.0      1.0  \n",
            "8        0.0       0.0     0.0     0.0      0.0  \n",
            "9        0.0       0.0     0.0     0.0      0.0  \n",
            "10       0.0       0.0     0.0     0.0      0.0  \n",
            "11       3.0       3.0     1.0     1.0      0.0  \n",
            "12       3.0       2.0     0.0     0.0      0.0  \n",
            "13       4.0       3.0     2.0     1.0      1.0  \n",
            "14       2.0       2.0     2.0     1.0      0.0  \n",
            "15       0.0       0.0     0.0     0.0      0.0  \n",
            "16       0.0       0.0     0.0     0.0      0.0  \n",
            "17       0.0       0.0     0.0     0.0      0.0  \n",
            "18       0.0       0.0     0.0     0.0      0.0  \n",
            "19       0.0       0.0     0.0     0.0      0.0  \n",
            "20       0.0       0.0     0.0     0.0      2.0  \n",
            "21       1.0       1.0     1.0     0.0      0.0  \n",
            "22       0.0       0.0     0.0     0.0      0.0  \n",
            "23       4.0       3.0     2.0     1.0      0.0  \n",
            "24       1.0       1.0     1.0     0.0      0.0  \n",
            "25       0.0       0.0     0.0     0.0      0.0  \n",
            "26       0.0       0.0     0.0     0.0      0.0  \n",
            "27       2.0       3.0     3.0     2.0      3.0  \n",
            "28       0.0       0.0     1.0     0.0      0.0  \n",
            "29       0.0       0.0     0.0     0.0      0.0  \n",
            "30       0.0       0.0     0.0     0.0      0.0  \n",
            "31       0.0       0.0     0.0     0.0      0.0  \n",
            "32       0.0       0.0     0.0     0.0      0.0  \n",
            "33       0.0       0.0     0.0     0.0      0.0  \n",
            "34       0.0       0.0     0.0     0.0      0.0  \n",
            "35       0.0       0.0     0.0     0.0      0.0  \n"
          ]
        }
      ]
    },
    {
      "cell_type": "code",
      "metadata": {
        "id": "6dOnUOgC6TVb"
      },
      "source": [
        "data_new = data_new.reset_index()"
      ],
      "execution_count": null,
      "outputs": []
    },
    {
      "cell_type": "code",
      "metadata": {
        "id": "_G0HlDoQ0IIQ"
      },
      "source": [
        "from sklearn.model_selection import train_test_split\n",
        "from sklearn.linear_model import LogisticRegression\n",
        "from sklearn import metrics\n",
        "from sklearn.naive_bayes import GaussianNB"
      ],
      "execution_count": null,
      "outputs": []
    },
    {
      "cell_type": "code",
      "metadata": {
        "id": "ZFC5ZOA-6pGO"
      },
      "source": [
        "data_new = data_new.dropna()"
      ],
      "execution_count": null,
      "outputs": []
    },
    {
      "cell_type": "code",
      "metadata": {
        "colab": {
          "base_uri": "https://localhost:8080/"
        },
        "id": "pF4r2TPm6zsK",
        "outputId": "5c90e09f-07e0-44bc-e271-6bab152eb37a"
      },
      "source": [
        "data_new.shape"
      ],
      "execution_count": null,
      "outputs": [
        {
          "output_type": "execute_result",
          "data": {
            "text/plain": [
              "(36, 11)"
            ]
          },
          "metadata": {},
          "execution_count": 149
        }
      ]
    },
    {
      "cell_type": "code",
      "metadata": {
        "id": "5Bb1TbhHSd8x"
      },
      "source": [
        "#naive bayes"
      ],
      "execution_count": null,
      "outputs": []
    },
    {
      "cell_type": "code",
      "metadata": {
        "id": "AbALLt2LSfrn"
      },
      "source": [
        "import numpy as np # linear algebra\n",
        "import pandas as pd # data processing, CSV file I/O (e.g. pd.read_csv)\n",
        "import matplotlib.pyplot as plt # for data visualization purposes\n",
        "import seaborn as sns # for statistical data visualization\n",
        "%matplotlib inline"
      ],
      "execution_count": null,
      "outputs": []
    },
    {
      "cell_type": "code",
      "metadata": {
        "id": "2siAsDvqSuOh"
      },
      "source": [
        "data = '/content/modified time of occurence.csv'\n",
        "\n",
        "df = pd.read_csv ('/content/modified time of occurence.csv')"
      ],
      "execution_count": null,
      "outputs": []
    },
    {
      "cell_type": "code",
      "metadata": {
        "colab": {
          "base_uri": "https://localhost:8080/"
        },
        "id": "yLxO9TAzSzQo",
        "outputId": "f76c18af-5451-4f4c-b688-c4cba35dc740"
      },
      "source": [
        "df.shape"
      ],
      "execution_count": null,
      "outputs": [
        {
          "output_type": "execute_result",
          "data": {
            "text/plain": [
              "(36, 10)"
            ]
          },
          "metadata": {},
          "execution_count": 6
        }
      ]
    },
    {
      "cell_type": "code",
      "metadata": {
        "colab": {
          "base_uri": "https://localhost:8080/"
        },
        "id": "hycmOrIgS-4Q",
        "outputId": "6b79b0fc-a36d-4c43-a57a-841a2b2d767d"
      },
      "source": [
        "df.info()"
      ],
      "execution_count": null,
      "outputs": [
        {
          "output_type": "stream",
          "name": "stdout",
          "text": [
            "<class 'pandas.core.frame.DataFrame'>\n",
            "RangeIndex: 36 entries, 0 to 35\n",
            "Data columns (total 10 columns):\n",
            " #   Column          Non-Null Count  Dtype \n",
            "---  ------          --------------  ----- \n",
            " 0   States/UTs      36 non-null     object\n",
            " 1   earlymorning    36 non-null     int64 \n",
            " 2   latemorning     36 non-null     int64 \n",
            " 3   earlyafternoon  36 non-null     int64 \n",
            " 4   lateafternoon   36 non-null     int64 \n",
            " 5   earlyevening    36 non-null     int64 \n",
            " 6   lateevening     36 non-null     int64 \n",
            " 7   midnight        36 non-null     int64 \n",
            " 8   twilight        36 non-null     int64 \n",
            " 9   Unknown         36 non-null     int64 \n",
            "dtypes: int64(9), object(1)\n",
            "memory usage: 2.9+ KB\n"
          ]
        }
      ]
    },
    {
      "cell_type": "code",
      "metadata": {
        "id": "NGl_-F11Tu5V"
      },
      "source": [
        "#categorical variables"
      ],
      "execution_count": null,
      "outputs": []
    },
    {
      "cell_type": "code",
      "metadata": {
        "colab": {
          "base_uri": "https://localhost:8080/"
        },
        "id": "RGhCZ2zETIO1",
        "outputId": "53914228-f1fb-45a0-e0fc-b5a37c71e1a0"
      },
      "source": [
        "categorical = [var for var in df.columns if df[var].dtype=='O']\n",
        "\n",
        "print('There are {} categorical variables\\n'.format(len(categorical)))\n",
        "\n",
        "print('The categorical variables are :\\n\\n', categorical)"
      ],
      "execution_count": null,
      "outputs": [
        {
          "output_type": "stream",
          "name": "stdout",
          "text": [
            "There are 1 categorical variables\n",
            "\n",
            "The categorical variables are :\n",
            "\n",
            " ['States/UTs']\n"
          ]
        }
      ]
    },
    {
      "cell_type": "code",
      "metadata": {
        "colab": {
          "base_uri": "https://localhost:8080/",
          "height": 206
        },
        "id": "jDwZv9p_TSXd",
        "outputId": "d8ec2e94-6b5a-4863-9c33-5bb201370aa2"
      },
      "source": [
        "df[categorical].head()"
      ],
      "execution_count": null,
      "outputs": [
        {
          "output_type": "execute_result",
          "data": {
            "text/html": [
              "<div>\n",
              "<style scoped>\n",
              "    .dataframe tbody tr th:only-of-type {\n",
              "        vertical-align: middle;\n",
              "    }\n",
              "\n",
              "    .dataframe tbody tr th {\n",
              "        vertical-align: top;\n",
              "    }\n",
              "\n",
              "    .dataframe thead th {\n",
              "        text-align: right;\n",
              "    }\n",
              "</style>\n",
              "<table border=\"1\" class=\"dataframe\">\n",
              "  <thead>\n",
              "    <tr style=\"text-align: right;\">\n",
              "      <th></th>\n",
              "      <th>States/UTs</th>\n",
              "    </tr>\n",
              "  </thead>\n",
              "  <tbody>\n",
              "    <tr>\n",
              "      <th>0</th>\n",
              "      <td>Andhra Pradesh</td>\n",
              "    </tr>\n",
              "    <tr>\n",
              "      <th>1</th>\n",
              "      <td>Arunachal Pradesh</td>\n",
              "    </tr>\n",
              "    <tr>\n",
              "      <th>2</th>\n",
              "      <td>Assam</td>\n",
              "    </tr>\n",
              "    <tr>\n",
              "      <th>3</th>\n",
              "      <td>Bihar</td>\n",
              "    </tr>\n",
              "    <tr>\n",
              "      <th>4</th>\n",
              "      <td>Chhattisgarh</td>\n",
              "    </tr>\n",
              "  </tbody>\n",
              "</table>\n",
              "</div>"
            ],
            "text/plain": [
              "          States/UTs\n",
              "0     Andhra Pradesh\n",
              "1  Arunachal Pradesh\n",
              "2              Assam\n",
              "3              Bihar\n",
              "4       Chhattisgarh"
            ]
          },
          "metadata": {},
          "execution_count": 10
        }
      ]
    },
    {
      "cell_type": "code",
      "metadata": {
        "colab": {
          "base_uri": "https://localhost:8080/"
        },
        "id": "VkmbcN0YTXmP",
        "outputId": "baea7416-9135-417a-f706-2f94783af9ba"
      },
      "source": [
        "df[categorical].isnull().sum()"
      ],
      "execution_count": null,
      "outputs": [
        {
          "output_type": "execute_result",
          "data": {
            "text/plain": [
              "States/UTs    0\n",
              "dtype: int64"
            ]
          },
          "metadata": {},
          "execution_count": 11
        }
      ]
    },
    {
      "cell_type": "code",
      "metadata": {
        "colab": {
          "base_uri": "https://localhost:8080/"
        },
        "id": "vYs9qjtcTh9n",
        "outputId": "719faefa-c58f-43ed-a91f-cfe8873eadff"
      },
      "source": [
        "for var in categorical: \n",
        "    \n",
        "    print(df[var].value_counts())"
      ],
      "execution_count": null,
      "outputs": [
        {
          "output_type": "stream",
          "name": "stdout",
          "text": [
            "Jammu & Kashmir      1\n",
            "Goa                  1\n",
            "Daman & Diu          1\n",
            "Himachal Pradesh     1\n",
            "Mizoram              1\n",
            "Orissa               1\n",
            "Puducherry           1\n",
            "Rajasthan            1\n",
            "Karnataka            1\n",
            "Assam                1\n",
            "Bihar                1\n",
            "Chandigarh           1\n",
            "Nagaland             1\n",
            "Telangana            1\n",
            "Maharashtra          1\n",
            "D & N Haveli         1\n",
            "Andhra Pradesh       1\n",
            "Tripura              1\n",
            "Uttarakhand          1\n",
            "Madhya Pradesh       1\n",
            "Lakshadweep          1\n",
            "Gujarat              1\n",
            "Arunachal Pradesh    1\n",
            "Sikkim               1\n",
            "Haryana              1\n",
            "Delhi                1\n",
            "Chhattisgarh         1\n",
            "Manipur              1\n",
            "Punjab               1\n",
            "Kerala               1\n",
            "Jharkhand            1\n",
            "Tamil Nadu           1\n",
            "A & N Islands        1\n",
            "Uttar Pradesh        1\n",
            "Meghalaya            1\n",
            "West Bengal          1\n",
            "Name: States/UTs, dtype: int64\n"
          ]
        }
      ]
    },
    {
      "cell_type": "code",
      "metadata": {
        "colab": {
          "base_uri": "https://localhost:8080/"
        },
        "id": "Qm8PdXTYTl0k",
        "outputId": "706bd980-b7ec-4087-dabd-0d7b4d22c82b"
      },
      "source": [
        "for var in categorical: \n",
        "    \n",
        "    print(df[var].value_counts()/np.float(len(df)))"
      ],
      "execution_count": null,
      "outputs": [
        {
          "output_type": "stream",
          "name": "stdout",
          "text": [
            "Jammu & Kashmir      0.027778\n",
            "Goa                  0.027778\n",
            "Daman & Diu          0.027778\n",
            "Himachal Pradesh     0.027778\n",
            "Mizoram              0.027778\n",
            "Orissa               0.027778\n",
            "Puducherry           0.027778\n",
            "Rajasthan            0.027778\n",
            "Karnataka            0.027778\n",
            "Assam                0.027778\n",
            "Bihar                0.027778\n",
            "Chandigarh           0.027778\n",
            "Nagaland             0.027778\n",
            "Telangana            0.027778\n",
            "Maharashtra          0.027778\n",
            "D & N Haveli         0.027778\n",
            "Andhra Pradesh       0.027778\n",
            "Tripura              0.027778\n",
            "Uttarakhand          0.027778\n",
            "Madhya Pradesh       0.027778\n",
            "Lakshadweep          0.027778\n",
            "Gujarat              0.027778\n",
            "Arunachal Pradesh    0.027778\n",
            "Sikkim               0.027778\n",
            "Haryana              0.027778\n",
            "Delhi                0.027778\n",
            "Chhattisgarh         0.027778\n",
            "Manipur              0.027778\n",
            "Punjab               0.027778\n",
            "Kerala               0.027778\n",
            "Jharkhand            0.027778\n",
            "Tamil Nadu           0.027778\n",
            "A & N Islands        0.027778\n",
            "Uttar Pradesh        0.027778\n",
            "Meghalaya            0.027778\n",
            "West Bengal          0.027778\n",
            "Name: States/UTs, dtype: float64\n"
          ]
        }
      ]
    },
    {
      "cell_type": "code",
      "metadata": {
        "colab": {
          "base_uri": "https://localhost:8080/"
        },
        "id": "gHee-eoIUKl7",
        "outputId": "e82ac808-4b56-415e-ef15-65d1853cfab7"
      },
      "source": [
        "numerical = [var for var in df.columns if df[var].dtype!='O']\n",
        "\n",
        "print('There are {} numerical variables\\n'.format(len(numerical)))\n",
        "\n",
        "print('The numerical variables are :', numerical)"
      ],
      "execution_count": null,
      "outputs": [
        {
          "output_type": "stream",
          "name": "stdout",
          "text": [
            "There are 9 numerical variables\n",
            "\n",
            "The numerical variables are : ['earlymorning', 'latemorning', 'earlyafternoon', 'lateafternoon', 'earlyevening', 'lateevening', 'midnight', 'twilight', 'Unknown']\n"
          ]
        }
      ]
    },
    {
      "cell_type": "code",
      "metadata": {
        "colab": {
          "base_uri": "https://localhost:8080/",
          "height": 206
        },
        "id": "zuDCnsx3WFql",
        "outputId": "24877be2-6ce1-4f6c-d3e8-2aeb68236ef5"
      },
      "source": [
        "df.head()"
      ],
      "execution_count": null,
      "outputs": [
        {
          "output_type": "execute_result",
          "data": {
            "text/html": [
              "<div>\n",
              "<style scoped>\n",
              "    .dataframe tbody tr th:only-of-type {\n",
              "        vertical-align: middle;\n",
              "    }\n",
              "\n",
              "    .dataframe tbody tr th {\n",
              "        vertical-align: top;\n",
              "    }\n",
              "\n",
              "    .dataframe thead th {\n",
              "        text-align: right;\n",
              "    }\n",
              "</style>\n",
              "<table border=\"1\" class=\"dataframe\">\n",
              "  <thead>\n",
              "    <tr style=\"text-align: right;\">\n",
              "      <th></th>\n",
              "      <th>States/UTs</th>\n",
              "      <th>earlymorning</th>\n",
              "      <th>latemorning</th>\n",
              "      <th>earlyafternoon</th>\n",
              "      <th>lateafternoon</th>\n",
              "      <th>earlyevening</th>\n",
              "      <th>lateevening</th>\n",
              "      <th>midnight</th>\n",
              "      <th>twilight</th>\n",
              "      <th>Unknown</th>\n",
              "    </tr>\n",
              "  </thead>\n",
              "  <tbody>\n",
              "    <tr>\n",
              "      <th>0</th>\n",
              "      <td>Andhra Pradesh</td>\n",
              "      <td>2453</td>\n",
              "      <td>3069</td>\n",
              "      <td>3437</td>\n",
              "      <td>3919</td>\n",
              "      <td>4633</td>\n",
              "      <td>2188</td>\n",
              "      <td>947</td>\n",
              "      <td>1300</td>\n",
              "      <td>46</td>\n",
              "    </tr>\n",
              "    <tr>\n",
              "      <th>1</th>\n",
              "      <td>Arunachal Pradesh</td>\n",
              "      <td>40</td>\n",
              "      <td>46</td>\n",
              "      <td>22</td>\n",
              "      <td>34</td>\n",
              "      <td>26</td>\n",
              "      <td>23</td>\n",
              "      <td>25</td>\n",
              "      <td>11</td>\n",
              "      <td>10</td>\n",
              "    </tr>\n",
              "    <tr>\n",
              "      <th>2</th>\n",
              "      <td>Assam</td>\n",
              "      <td>1068</td>\n",
              "      <td>1536</td>\n",
              "      <td>1299</td>\n",
              "      <td>1464</td>\n",
              "      <td>1284</td>\n",
              "      <td>747</td>\n",
              "      <td>395</td>\n",
              "      <td>501</td>\n",
              "      <td>56</td>\n",
              "    </tr>\n",
              "    <tr>\n",
              "      <th>3</th>\n",
              "      <td>Bihar</td>\n",
              "      <td>1859</td>\n",
              "      <td>1791</td>\n",
              "      <td>1261</td>\n",
              "      <td>1437</td>\n",
              "      <td>1288</td>\n",
              "      <td>462</td>\n",
              "      <td>165</td>\n",
              "      <td>1744</td>\n",
              "      <td>0</td>\n",
              "    </tr>\n",
              "    <tr>\n",
              "      <th>4</th>\n",
              "      <td>Chhattisgarh</td>\n",
              "      <td>1426</td>\n",
              "      <td>2063</td>\n",
              "      <td>2238</td>\n",
              "      <td>2679</td>\n",
              "      <td>3085</td>\n",
              "      <td>1439</td>\n",
              "      <td>454</td>\n",
              "      <td>515</td>\n",
              "      <td>0</td>\n",
              "    </tr>\n",
              "  </tbody>\n",
              "</table>\n",
              "</div>"
            ],
            "text/plain": [
              "          States/UTs  earlymorning  latemorning  ...  midnight  twilight  Unknown\n",
              "0     Andhra Pradesh          2453         3069  ...       947      1300       46\n",
              "1  Arunachal Pradesh            40           46  ...        25        11       10\n",
              "2              Assam          1068         1536  ...       395       501       56\n",
              "3              Bihar          1859         1791  ...       165      1744        0\n",
              "4       Chhattisgarh          1426         2063  ...       454       515        0\n",
              "\n",
              "[5 rows x 10 columns]"
            ]
          },
          "metadata": {},
          "execution_count": 15
        }
      ]
    },
    {
      "cell_type": "code",
      "metadata": {
        "id": "rHvIki65URTD",
        "colab": {
          "base_uri": "https://localhost:8080/",
          "height": 362
        },
        "outputId": "a83a8c6c-3310-4fca-8994-d98a82e89573"
      },
      "source": [
        "X = df.drop([''], axis=1)\n",
        "\n",
        "y = data_new['']"
      ],
      "execution_count": null,
      "outputs": [
        {
          "output_type": "error",
          "ename": "KeyError",
          "evalue": "ignored",
          "traceback": [
            "\u001b[0;31m---------------------------------------------------------------------------\u001b[0m",
            "\u001b[0;31mKeyError\u001b[0m                                  Traceback (most recent call last)",
            "\u001b[0;32m<ipython-input-16-3aa3e0df8e98>\u001b[0m in \u001b[0;36m<module>\u001b[0;34m()\u001b[0m\n\u001b[0;32m----> 1\u001b[0;31m \u001b[0mX\u001b[0m \u001b[0;34m=\u001b[0m \u001b[0mdf\u001b[0m\u001b[0;34m.\u001b[0m\u001b[0mdrop\u001b[0m\u001b[0;34m(\u001b[0m\u001b[0;34m[\u001b[0m\u001b[0;34m''\u001b[0m\u001b[0;34m]\u001b[0m\u001b[0;34m,\u001b[0m \u001b[0maxis\u001b[0m\u001b[0;34m=\u001b[0m\u001b[0;36m1\u001b[0m\u001b[0;34m)\u001b[0m\u001b[0;34m\u001b[0m\u001b[0;34m\u001b[0m\u001b[0m\n\u001b[0m\u001b[1;32m      2\u001b[0m \u001b[0;34m\u001b[0m\u001b[0m\n\u001b[1;32m      3\u001b[0m \u001b[0my\u001b[0m \u001b[0;34m=\u001b[0m \u001b[0mdata_new\u001b[0m\u001b[0;34m[\u001b[0m\u001b[0;34m''\u001b[0m\u001b[0;34m]\u001b[0m\u001b[0;34m\u001b[0m\u001b[0;34m\u001b[0m\u001b[0m\n",
            "\u001b[0;32m/usr/local/lib/python3.7/dist-packages/pandas/core/frame.py\u001b[0m in \u001b[0;36mdrop\u001b[0;34m(self, labels, axis, index, columns, level, inplace, errors)\u001b[0m\n\u001b[1;32m   4172\u001b[0m             \u001b[0mlevel\u001b[0m\u001b[0;34m=\u001b[0m\u001b[0mlevel\u001b[0m\u001b[0;34m,\u001b[0m\u001b[0;34m\u001b[0m\u001b[0;34m\u001b[0m\u001b[0m\n\u001b[1;32m   4173\u001b[0m             \u001b[0minplace\u001b[0m\u001b[0;34m=\u001b[0m\u001b[0minplace\u001b[0m\u001b[0;34m,\u001b[0m\u001b[0;34m\u001b[0m\u001b[0;34m\u001b[0m\u001b[0m\n\u001b[0;32m-> 4174\u001b[0;31m             \u001b[0merrors\u001b[0m\u001b[0;34m=\u001b[0m\u001b[0merrors\u001b[0m\u001b[0;34m,\u001b[0m\u001b[0;34m\u001b[0m\u001b[0;34m\u001b[0m\u001b[0m\n\u001b[0m\u001b[1;32m   4175\u001b[0m         )\n\u001b[1;32m   4176\u001b[0m \u001b[0;34m\u001b[0m\u001b[0m\n",
            "\u001b[0;32m/usr/local/lib/python3.7/dist-packages/pandas/core/generic.py\u001b[0m in \u001b[0;36mdrop\u001b[0;34m(self, labels, axis, index, columns, level, inplace, errors)\u001b[0m\n\u001b[1;32m   3887\u001b[0m         \u001b[0;32mfor\u001b[0m \u001b[0maxis\u001b[0m\u001b[0;34m,\u001b[0m \u001b[0mlabels\u001b[0m \u001b[0;32min\u001b[0m \u001b[0maxes\u001b[0m\u001b[0;34m.\u001b[0m\u001b[0mitems\u001b[0m\u001b[0;34m(\u001b[0m\u001b[0;34m)\u001b[0m\u001b[0;34m:\u001b[0m\u001b[0;34m\u001b[0m\u001b[0;34m\u001b[0m\u001b[0m\n\u001b[1;32m   3888\u001b[0m             \u001b[0;32mif\u001b[0m \u001b[0mlabels\u001b[0m \u001b[0;32mis\u001b[0m \u001b[0;32mnot\u001b[0m \u001b[0;32mNone\u001b[0m\u001b[0;34m:\u001b[0m\u001b[0;34m\u001b[0m\u001b[0;34m\u001b[0m\u001b[0m\n\u001b[0;32m-> 3889\u001b[0;31m                 \u001b[0mobj\u001b[0m \u001b[0;34m=\u001b[0m \u001b[0mobj\u001b[0m\u001b[0;34m.\u001b[0m\u001b[0m_drop_axis\u001b[0m\u001b[0;34m(\u001b[0m\u001b[0mlabels\u001b[0m\u001b[0;34m,\u001b[0m \u001b[0maxis\u001b[0m\u001b[0;34m,\u001b[0m \u001b[0mlevel\u001b[0m\u001b[0;34m=\u001b[0m\u001b[0mlevel\u001b[0m\u001b[0;34m,\u001b[0m \u001b[0merrors\u001b[0m\u001b[0;34m=\u001b[0m\u001b[0merrors\u001b[0m\u001b[0;34m)\u001b[0m\u001b[0;34m\u001b[0m\u001b[0;34m\u001b[0m\u001b[0m\n\u001b[0m\u001b[1;32m   3890\u001b[0m \u001b[0;34m\u001b[0m\u001b[0m\n\u001b[1;32m   3891\u001b[0m         \u001b[0;32mif\u001b[0m \u001b[0minplace\u001b[0m\u001b[0;34m:\u001b[0m\u001b[0;34m\u001b[0m\u001b[0;34m\u001b[0m\u001b[0m\n",
            "\u001b[0;32m/usr/local/lib/python3.7/dist-packages/pandas/core/generic.py\u001b[0m in \u001b[0;36m_drop_axis\u001b[0;34m(self, labels, axis, level, errors)\u001b[0m\n\u001b[1;32m   3921\u001b[0m                 \u001b[0mnew_axis\u001b[0m \u001b[0;34m=\u001b[0m \u001b[0maxis\u001b[0m\u001b[0;34m.\u001b[0m\u001b[0mdrop\u001b[0m\u001b[0;34m(\u001b[0m\u001b[0mlabels\u001b[0m\u001b[0;34m,\u001b[0m \u001b[0mlevel\u001b[0m\u001b[0;34m=\u001b[0m\u001b[0mlevel\u001b[0m\u001b[0;34m,\u001b[0m \u001b[0merrors\u001b[0m\u001b[0;34m=\u001b[0m\u001b[0merrors\u001b[0m\u001b[0;34m)\u001b[0m\u001b[0;34m\u001b[0m\u001b[0;34m\u001b[0m\u001b[0m\n\u001b[1;32m   3922\u001b[0m             \u001b[0;32melse\u001b[0m\u001b[0;34m:\u001b[0m\u001b[0;34m\u001b[0m\u001b[0;34m\u001b[0m\u001b[0m\n\u001b[0;32m-> 3923\u001b[0;31m                 \u001b[0mnew_axis\u001b[0m \u001b[0;34m=\u001b[0m \u001b[0maxis\u001b[0m\u001b[0;34m.\u001b[0m\u001b[0mdrop\u001b[0m\u001b[0;34m(\u001b[0m\u001b[0mlabels\u001b[0m\u001b[0;34m,\u001b[0m \u001b[0merrors\u001b[0m\u001b[0;34m=\u001b[0m\u001b[0merrors\u001b[0m\u001b[0;34m)\u001b[0m\u001b[0;34m\u001b[0m\u001b[0;34m\u001b[0m\u001b[0m\n\u001b[0m\u001b[1;32m   3924\u001b[0m             \u001b[0mresult\u001b[0m \u001b[0;34m=\u001b[0m \u001b[0mself\u001b[0m\u001b[0;34m.\u001b[0m\u001b[0mreindex\u001b[0m\u001b[0;34m(\u001b[0m\u001b[0;34m**\u001b[0m\u001b[0;34m{\u001b[0m\u001b[0maxis_name\u001b[0m\u001b[0;34m:\u001b[0m \u001b[0mnew_axis\u001b[0m\u001b[0;34m}\u001b[0m\u001b[0;34m)\u001b[0m\u001b[0;34m\u001b[0m\u001b[0;34m\u001b[0m\u001b[0m\n\u001b[1;32m   3925\u001b[0m \u001b[0;34m\u001b[0m\u001b[0m\n",
            "\u001b[0;32m/usr/local/lib/python3.7/dist-packages/pandas/core/indexes/base.py\u001b[0m in \u001b[0;36mdrop\u001b[0;34m(self, labels, errors)\u001b[0m\n\u001b[1;32m   5285\u001b[0m         \u001b[0;32mif\u001b[0m \u001b[0mmask\u001b[0m\u001b[0;34m.\u001b[0m\u001b[0many\u001b[0m\u001b[0;34m(\u001b[0m\u001b[0;34m)\u001b[0m\u001b[0;34m:\u001b[0m\u001b[0;34m\u001b[0m\u001b[0;34m\u001b[0m\u001b[0m\n\u001b[1;32m   5286\u001b[0m             \u001b[0;32mif\u001b[0m \u001b[0merrors\u001b[0m \u001b[0;34m!=\u001b[0m \u001b[0;34m\"ignore\"\u001b[0m\u001b[0;34m:\u001b[0m\u001b[0;34m\u001b[0m\u001b[0;34m\u001b[0m\u001b[0m\n\u001b[0;32m-> 5287\u001b[0;31m                 \u001b[0;32mraise\u001b[0m \u001b[0mKeyError\u001b[0m\u001b[0;34m(\u001b[0m\u001b[0;34mf\"{labels[mask]} not found in axis\"\u001b[0m\u001b[0;34m)\u001b[0m\u001b[0;34m\u001b[0m\u001b[0;34m\u001b[0m\u001b[0m\n\u001b[0m\u001b[1;32m   5288\u001b[0m             \u001b[0mindexer\u001b[0m \u001b[0;34m=\u001b[0m \u001b[0mindexer\u001b[0m\u001b[0;34m[\u001b[0m\u001b[0;34m~\u001b[0m\u001b[0mmask\u001b[0m\u001b[0;34m]\u001b[0m\u001b[0;34m\u001b[0m\u001b[0;34m\u001b[0m\u001b[0m\n\u001b[1;32m   5289\u001b[0m         \u001b[0;32mreturn\u001b[0m \u001b[0mself\u001b[0m\u001b[0;34m.\u001b[0m\u001b[0mdelete\u001b[0m\u001b[0;34m(\u001b[0m\u001b[0mindexer\u001b[0m\u001b[0;34m)\u001b[0m\u001b[0;34m\u001b[0m\u001b[0;34m\u001b[0m\u001b[0m\n",
            "\u001b[0;31mKeyError\u001b[0m: \"[''] not found in axis\""
          ]
        }
      ]
    }
  ]
}